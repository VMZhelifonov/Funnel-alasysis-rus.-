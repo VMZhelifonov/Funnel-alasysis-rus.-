{
  "nbformat": 4,
  "nbformat_minor": 0,
  "metadata": {
    "colab": {
      "provenance": []
    },
    "kernelspec": {
      "name": "python3",
      "display_name": "Python 3"
    },
    "language_info": {
      "name": "python"
    }
  },
  "cells": [
    {
      "cell_type": "code",
      "execution_count": null,
      "metadata": {
        "id": "bB09ShvxvNyF"
      },
      "outputs": [],
      "source": [
        "import polars as pl\n",
        "from datetime import datetime"
      ]
    },
    {
      "cell_type": "code",
      "source": [
        "csv_files = {\n",
        "    \"user_table.csv\": \"user_table.parquet\",\n",
        "    \"home_page_table.csv\": \"home_page_table.parquet\",\n",
        "    \"search_page_table.csv\": \"search_page_table.parquet\",\n",
        "    \"payment_page_table.csv\": \"payment_page_table.parquet\",\n",
        "    \"payment_confirmation_table.csv\": \"payment_confirmation_table.parquet\"\n",
        "}\n",
        "\n",
        "for csv_name, parquet_name in csv_files.items():\n",
        "    print(f\"Конвертируем {csv_name} -> {parquet_name}\")\n",
        "    df = pl.read_csv(f\"/content/{csv_name}\")\n",
        "    df.write_parquet(f\"/content/{parquet_name}\")"
      ],
      "metadata": {
        "colab": {
          "base_uri": "https://localhost:8080/"
        },
        "id": "QNlY3li9p42L",
        "outputId": "b79fbfe6-45f4-4a48-fa00-f7dcf235e162"
      },
      "execution_count": null,
      "outputs": [
        {
          "output_type": "stream",
          "name": "stdout",
          "text": [
            "Конвертируем user_table.csv -> user_table.parquet\n",
            "Конвертируем home_page_table.csv -> home_page_table.parquet\n",
            "Конвертируем search_page_table.csv -> search_page_table.parquet\n",
            "Конвертируем payment_page_table.csv -> payment_page_table.parquet\n",
            "Конвертируем payment_confirmation_table.csv -> payment_confirmation_table.parquet\n"
          ]
        }
      ]
    },
    {
      "cell_type": "code",
      "source": [
        "df = (\n",
        "    pl.scan_parquet(\"/content/user_table.parquet\")\n",
        "    .select([\"user_id\", \"date\", \"device\", \"sex\"])\n",
        "\n",
        "    .join(\n",
        "        pl.scan_parquet(\"/content/home_page_table.parquet\").select([\"user_id\", \"page\"]),\n",
        "        on=\"user_id\",\n",
        "        how=\"left\"\n",
        "    ).rename({\"page\": \"Home page\"})\n",
        "\n",
        "    .join(\n",
        "        pl.scan_parquet(\"/content/search_page_table.parquet\").select([\"user_id\", \"page\"]),\n",
        "        on=\"user_id\",\n",
        "        how=\"left\"\n",
        "    ).rename({\"page\": \"Search page\"})\n",
        "\n",
        "    .join(\n",
        "        pl.scan_parquet(\"/content/payment_page_table.parquet\").select([\"user_id\", \"page\"]),\n",
        "        on=\"user_id\",\n",
        "        how=\"left\"\n",
        "    ).rename({\"page\": \"Payment page\"})\n",
        "\n",
        "    .join(\n",
        "        pl.scan_parquet(\"/content/payment_confirmation_table.parquet\").select([\"user_id\", \"page\"]),\n",
        "        on=\"user_id\",\n",
        "        how=\"left\"\n",
        "    ).rename({\"page\": \"Payment confirmation page\"})\n",
        ")\n",
        "\n",
        "result = df.collect()\n",
        "print(result.head())"
      ],
      "metadata": {
        "colab": {
          "base_uri": "https://localhost:8080/"
        },
        "id": "Jk4m7T8wvZ87",
        "outputId": "b787c99b-3e97-4a0f-9436-d49da0f5503e"
      },
      "execution_count": null,
      "outputs": [
        {
          "output_type": "stream",
          "name": "stdout",
          "text": [
            "shape: (5, 8)\n",
            "┌─────────┬────────────┬─────────┬────────┬───────────┬─────────────┬──────────────┬───────────────┐\n",
            "│ user_id ┆ date       ┆ device  ┆ sex    ┆ Home page ┆ Search page ┆ Payment page ┆ Payment       │\n",
            "│ ---     ┆ ---        ┆ ---     ┆ ---    ┆ ---       ┆ ---         ┆ ---          ┆ confirmation  │\n",
            "│ i64     ┆ str        ┆ str     ┆ str    ┆ str       ┆ str         ┆ str          ┆ page          │\n",
            "│         ┆            ┆         ┆        ┆           ┆             ┆              ┆ ---           │\n",
            "│         ┆            ┆         ┆        ┆           ┆             ┆              ┆ str           │\n",
            "╞═════════╪════════════╪═════════╪════════╪═══════════╪═════════════╪══════════════╪═══════════════╡\n",
            "│ 450007  ┆ 2015-02-28 ┆ Desktop ┆ Female ┆ home_page ┆ null        ┆ null         ┆ null          │\n",
            "│ 756838  ┆ 2015-01-13 ┆ Desktop ┆ Male   ┆ home_page ┆ null        ┆ null         ┆ null          │\n",
            "│ 568983  ┆ 2015-04-09 ┆ Desktop ┆ Male   ┆ home_page ┆ search_page ┆ null         ┆ null          │\n",
            "│ 190794  ┆ 2015-02-18 ┆ Desktop ┆ Female ┆ home_page ┆ search_page ┆ null         ┆ null          │\n",
            "│ 537909  ┆ 2015-01-15 ┆ Desktop ┆ Male   ┆ home_page ┆ null        ┆ null         ┆ null          │\n",
            "└─────────┴────────────┴─────────┴────────┴───────────┴─────────────┴──────────────┴───────────────┘\n"
          ]
        }
      ]
    },
    {
      "cell_type": "code",
      "source": [
        "#Подсчёт конверсий для воронки\n",
        "total_users = result.shape[0]\n",
        "home_users = result.filter(pl.col('Home page').is_not_null()).shape[0]\n",
        "search_users = result.filter(pl.col('Search page').is_not_null()).shape[0]\n",
        "payment_users = result.filter(pl.col('Payment page').is_not_null()).shape[0]\n",
        "payment_conv_users = result.filter(pl.col('Payment confirmation page').is_not_null()).shape[0]"
      ],
      "metadata": {
        "id": "XXqWfGo5iD4x"
      },
      "execution_count": null,
      "outputs": []
    },
    {
      "cell_type": "code",
      "source": [
        "print(f'На Search Page перешло {round(100 * (search_users / home_users), 2)} % пользователей')\n",
        "print(f'На страницу с оплатой из оставшихся перешло {round(100 * (payment_users / search_users), 2)} % пользователей')\n",
        "print(f'Оплатило же покупку из перешедших {round(100 * payment_conv_users / payment_users, 2)} % пользователей')\n",
        "print(f'Это значит, что всего из зашедших на сайт оплатили {round(100 * payment_conv_users / home_users, 2)} % пользователей')"
      ],
      "metadata": {
        "colab": {
          "base_uri": "https://localhost:8080/"
        },
        "id": "CVuX1SWkiE0a",
        "outputId": "6d7bc0f2-f375-43ae-abb0-36c2315403d0"
      },
      "execution_count": null,
      "outputs": [
        {
          "output_type": "stream",
          "name": "stdout",
          "text": [
            "На Search Page перешло 50.0 % пользователей\n",
            "На страницу с оплатой из оставшихся перешло 13.34 % пользователей\n",
            "Оплатило же покупку из перешедших 7.5 % пользователей\n",
            "Это значит, что всего из зашедших на сайт оплатили 0.5 % пользователей\n"
          ]
        }
      ]
    },
    {
      "cell_type": "code",
      "source": [
        "#Cohort-analysis на основе используемого устройства\n",
        "conversion_by_device = (\n",
        "    result.group_by(\"device\")\n",
        "    .agg([\n",
        "        pl.col(\"user_id\").count().alias(\"total_users\"),\n",
        "        pl.col(\"Payment confirmation page\").is_not_null().sum().alias(\"paid_users\"),\n",
        "        (pl.col(\"Payment confirmation page\").is_not_null().sum() / pl.col(\"user_id\").count() * 100)\n",
        "         .round(2).alias(\"conv_rate\")\n",
        "    ])\n",
        "    .with_columns(\n",
        "        pl.format(\"{}%\", pl.col(\"conv_rate\")).alias(\"conv_rate_with_percent\")\n",
        "    )\n",
        ")\n",
        "\n",
        "print(conversion_by_device.drop(\"conv_rate\"))\n",
        "print('Как видно из анализа, 1% пользователей смартфонов доходит до покупки в то время, как доля пользователей ПК и ноутбуков, дошедших до оплаты, составляет лишь\\n 0.25%')\n",
        "print('\\n такая разница может быть вызвана рядом факторов, а именно: дизайн сайта на смартфонах лучше чем на ПК;')\n",
        "print('\\n когда пользователи заходят с ПК, они изначально не настроены совершать покупку, но затнтересованы лишь посмотреть товары')\n",
        "print('\\n также нельзя исключать, что играет роль сложность оплаты с ПК, в то время как со смартфона совершить транзакцию несложно')"
      ],
      "metadata": {
        "colab": {
          "base_uri": "https://localhost:8080/"
        },
        "id": "4NU165hgkbbv",
        "outputId": "937c7303-3e5f-46b2-9ec2-bd8ee8ce7a7b"
      },
      "execution_count": null,
      "outputs": [
        {
          "output_type": "stream",
          "name": "stdout",
          "text": [
            "shape: (2, 4)\n",
            "┌─────────┬─────────────┬────────────┬────────────────────────┐\n",
            "│ device  ┆ total_users ┆ paid_users ┆ conv_rate_with_percent │\n",
            "│ ---     ┆ ---         ┆ ---        ┆ ---                    │\n",
            "│ str     ┆ u32         ┆ u32        ┆ str                    │\n",
            "╞═════════╪═════════════╪════════════╪════════════════════════╡\n",
            "│ Mobile  ┆ 30200       ┆ 302        ┆ 1.0%                   │\n",
            "│ Desktop ┆ 60200       ┆ 150        ┆ 0.25%                  │\n",
            "└─────────┴─────────────┴────────────┴────────────────────────┘\n",
            "Как видно из анализа, 1% пользователей смартфонов доходит до покупки в то время, как доля пользователей ПК и ноутбуков, дошедших до оплаты, составляет лишь\n",
            " 0.25%\n",
            "\n",
            " такая разница может быть вызвана рядом факторов, а именно: дизайн сайта на смартфонах лучше чем на ПК;\n",
            "\n",
            " когда пользователи заходят с ПК, они изначально не настроены совершать покупку, но затнтересованы лишь посмотреть товары\n",
            "\n",
            " также нельзя исключать, что играет роль сложность оплаты с ПК, в то время как со смартфона совершить транзакцию несложно\n"
          ]
        }
      ]
    },
    {
      "cell_type": "code",
      "source": [
        "import plotly.express as px\n",
        "\n",
        "stages = ['Зашли на страницу', 'Поиск товара', 'Окно оплаты', 'Оплата совершена']\n",
        "values = [home_users, search_users, payment_users, payment_conv_users]\n",
        "\n",
        "fig = px.funnel(\n",
        "    y = stages,\n",
        "    x = values,\n",
        "    title = 'Воронка конверсии',\n",
        "    labels = {'x': 'Этапы', 'y': 'Кол-во пользователей'}\n",
        ")\n",
        "\n",
        "fig.show()"
      ],
      "metadata": {
        "colab": {
          "base_uri": "https://localhost:8080/",
          "height": 542
        },
        "id": "S3AZmRr4va_1",
        "outputId": "775f9d26-58fd-4b9f-c37a-c3d86d41556a"
      },
      "execution_count": null,
      "outputs": [
        {
          "output_type": "display_data",
          "data": {
            "text/html": [
              "<html>\n",
              "<head><meta charset=\"utf-8\" /></head>\n",
              "<body>\n",
              "    <div>            <script src=\"https://cdnjs.cloudflare.com/ajax/libs/mathjax/2.7.5/MathJax.js?config=TeX-AMS-MML_SVG\"></script><script type=\"text/javascript\">if (window.MathJax && window.MathJax.Hub && window.MathJax.Hub.Config) {window.MathJax.Hub.Config({SVG: {font: \"STIX-Web\"}});}</script>                <script type=\"text/javascript\">window.PlotlyConfig = {MathJaxConfig: 'local'};</script>\n",
              "        <script charset=\"utf-8\" src=\"https://cdn.plot.ly/plotly-2.35.2.min.js\"></script>                <div id=\"8e70aa3d-37b8-49ed-8b6d-162ca64a2bef\" class=\"plotly-graph-div\" style=\"height:525px; width:100%;\"></div>            <script type=\"text/javascript\">                                    window.PLOTLYENV=window.PLOTLYENV || {};                                    if (document.getElementById(\"8e70aa3d-37b8-49ed-8b6d-162ca64a2bef\")) {                    Plotly.newPlot(                        \"8e70aa3d-37b8-49ed-8b6d-162ca64a2bef\",                        [{\"hovertemplate\":\"Этапы=%{x}\\u003cbr\\u003eКол-во пользователей=%{y}\\u003cextra\\u003e\\u003c\\u002fextra\\u003e\",\"legendgroup\":\"\",\"marker\":{\"color\":\"#636efa\"},\"name\":\"\",\"orientation\":\"h\",\"showlegend\":false,\"x\":[90400,45200,6030,452],\"xaxis\":\"x\",\"y\":[\"Зашли на страницу\",\"Поиск товара\",\"Окно оплаты\",\"Оплата совершена\"],\"yaxis\":\"y\",\"type\":\"funnel\"}],                        {\"template\":{\"data\":{\"histogram2dcontour\":[{\"type\":\"histogram2dcontour\",\"colorbar\":{\"outlinewidth\":0,\"ticks\":\"\"},\"colorscale\":[[0.0,\"#0d0887\"],[0.1111111111111111,\"#46039f\"],[0.2222222222222222,\"#7201a8\"],[0.3333333333333333,\"#9c179e\"],[0.4444444444444444,\"#bd3786\"],[0.5555555555555556,\"#d8576b\"],[0.6666666666666666,\"#ed7953\"],[0.7777777777777778,\"#fb9f3a\"],[0.8888888888888888,\"#fdca26\"],[1.0,\"#f0f921\"]]}],\"choropleth\":[{\"type\":\"choropleth\",\"colorbar\":{\"outlinewidth\":0,\"ticks\":\"\"}}],\"histogram2d\":[{\"type\":\"histogram2d\",\"colorbar\":{\"outlinewidth\":0,\"ticks\":\"\"},\"colorscale\":[[0.0,\"#0d0887\"],[0.1111111111111111,\"#46039f\"],[0.2222222222222222,\"#7201a8\"],[0.3333333333333333,\"#9c179e\"],[0.4444444444444444,\"#bd3786\"],[0.5555555555555556,\"#d8576b\"],[0.6666666666666666,\"#ed7953\"],[0.7777777777777778,\"#fb9f3a\"],[0.8888888888888888,\"#fdca26\"],[1.0,\"#f0f921\"]]}],\"heatmap\":[{\"type\":\"heatmap\",\"colorbar\":{\"outlinewidth\":0,\"ticks\":\"\"},\"colorscale\":[[0.0,\"#0d0887\"],[0.1111111111111111,\"#46039f\"],[0.2222222222222222,\"#7201a8\"],[0.3333333333333333,\"#9c179e\"],[0.4444444444444444,\"#bd3786\"],[0.5555555555555556,\"#d8576b\"],[0.6666666666666666,\"#ed7953\"],[0.7777777777777778,\"#fb9f3a\"],[0.8888888888888888,\"#fdca26\"],[1.0,\"#f0f921\"]]}],\"heatmapgl\":[{\"type\":\"heatmapgl\",\"colorbar\":{\"outlinewidth\":0,\"ticks\":\"\"},\"colorscale\":[[0.0,\"#0d0887\"],[0.1111111111111111,\"#46039f\"],[0.2222222222222222,\"#7201a8\"],[0.3333333333333333,\"#9c179e\"],[0.4444444444444444,\"#bd3786\"],[0.5555555555555556,\"#d8576b\"],[0.6666666666666666,\"#ed7953\"],[0.7777777777777778,\"#fb9f3a\"],[0.8888888888888888,\"#fdca26\"],[1.0,\"#f0f921\"]]}],\"contourcarpet\":[{\"type\":\"contourcarpet\",\"colorbar\":{\"outlinewidth\":0,\"ticks\":\"\"}}],\"contour\":[{\"type\":\"contour\",\"colorbar\":{\"outlinewidth\":0,\"ticks\":\"\"},\"colorscale\":[[0.0,\"#0d0887\"],[0.1111111111111111,\"#46039f\"],[0.2222222222222222,\"#7201a8\"],[0.3333333333333333,\"#9c179e\"],[0.4444444444444444,\"#bd3786\"],[0.5555555555555556,\"#d8576b\"],[0.6666666666666666,\"#ed7953\"],[0.7777777777777778,\"#fb9f3a\"],[0.8888888888888888,\"#fdca26\"],[1.0,\"#f0f921\"]]}],\"surface\":[{\"type\":\"surface\",\"colorbar\":{\"outlinewidth\":0,\"ticks\":\"\"},\"colorscale\":[[0.0,\"#0d0887\"],[0.1111111111111111,\"#46039f\"],[0.2222222222222222,\"#7201a8\"],[0.3333333333333333,\"#9c179e\"],[0.4444444444444444,\"#bd3786\"],[0.5555555555555556,\"#d8576b\"],[0.6666666666666666,\"#ed7953\"],[0.7777777777777778,\"#fb9f3a\"],[0.8888888888888888,\"#fdca26\"],[1.0,\"#f0f921\"]]}],\"mesh3d\":[{\"type\":\"mesh3d\",\"colorbar\":{\"outlinewidth\":0,\"ticks\":\"\"}}],\"scatter\":[{\"fillpattern\":{\"fillmode\":\"overlay\",\"size\":10,\"solidity\":0.2},\"type\":\"scatter\"}],\"parcoords\":[{\"type\":\"parcoords\",\"line\":{\"colorbar\":{\"outlinewidth\":0,\"ticks\":\"\"}}}],\"scatterpolargl\":[{\"type\":\"scatterpolargl\",\"marker\":{\"colorbar\":{\"outlinewidth\":0,\"ticks\":\"\"}}}],\"bar\":[{\"error_x\":{\"color\":\"#2a3f5f\"},\"error_y\":{\"color\":\"#2a3f5f\"},\"marker\":{\"line\":{\"color\":\"#E5ECF6\",\"width\":0.5},\"pattern\":{\"fillmode\":\"overlay\",\"size\":10,\"solidity\":0.2}},\"type\":\"bar\"}],\"scattergeo\":[{\"type\":\"scattergeo\",\"marker\":{\"colorbar\":{\"outlinewidth\":0,\"ticks\":\"\"}}}],\"scatterpolar\":[{\"type\":\"scatterpolar\",\"marker\":{\"colorbar\":{\"outlinewidth\":0,\"ticks\":\"\"}}}],\"histogram\":[{\"marker\":{\"pattern\":{\"fillmode\":\"overlay\",\"size\":10,\"solidity\":0.2}},\"type\":\"histogram\"}],\"scattergl\":[{\"type\":\"scattergl\",\"marker\":{\"colorbar\":{\"outlinewidth\":0,\"ticks\":\"\"}}}],\"scatter3d\":[{\"type\":\"scatter3d\",\"line\":{\"colorbar\":{\"outlinewidth\":0,\"ticks\":\"\"}},\"marker\":{\"colorbar\":{\"outlinewidth\":0,\"ticks\":\"\"}}}],\"scattermapbox\":[{\"type\":\"scattermapbox\",\"marker\":{\"colorbar\":{\"outlinewidth\":0,\"ticks\":\"\"}}}],\"scatterternary\":[{\"type\":\"scatterternary\",\"marker\":{\"colorbar\":{\"outlinewidth\":0,\"ticks\":\"\"}}}],\"scattercarpet\":[{\"type\":\"scattercarpet\",\"marker\":{\"colorbar\":{\"outlinewidth\":0,\"ticks\":\"\"}}}],\"carpet\":[{\"aaxis\":{\"endlinecolor\":\"#2a3f5f\",\"gridcolor\":\"white\",\"linecolor\":\"white\",\"minorgridcolor\":\"white\",\"startlinecolor\":\"#2a3f5f\"},\"baxis\":{\"endlinecolor\":\"#2a3f5f\",\"gridcolor\":\"white\",\"linecolor\":\"white\",\"minorgridcolor\":\"white\",\"startlinecolor\":\"#2a3f5f\"},\"type\":\"carpet\"}],\"table\":[{\"cells\":{\"fill\":{\"color\":\"#EBF0F8\"},\"line\":{\"color\":\"white\"}},\"header\":{\"fill\":{\"color\":\"#C8D4E3\"},\"line\":{\"color\":\"white\"}},\"type\":\"table\"}],\"barpolar\":[{\"marker\":{\"line\":{\"color\":\"#E5ECF6\",\"width\":0.5},\"pattern\":{\"fillmode\":\"overlay\",\"size\":10,\"solidity\":0.2}},\"type\":\"barpolar\"}],\"pie\":[{\"automargin\":true,\"type\":\"pie\"}]},\"layout\":{\"autotypenumbers\":\"strict\",\"colorway\":[\"#636efa\",\"#EF553B\",\"#00cc96\",\"#ab63fa\",\"#FFA15A\",\"#19d3f3\",\"#FF6692\",\"#B6E880\",\"#FF97FF\",\"#FECB52\"],\"font\":{\"color\":\"#2a3f5f\"},\"hovermode\":\"closest\",\"hoverlabel\":{\"align\":\"left\"},\"paper_bgcolor\":\"white\",\"plot_bgcolor\":\"#E5ECF6\",\"polar\":{\"bgcolor\":\"#E5ECF6\",\"angularaxis\":{\"gridcolor\":\"white\",\"linecolor\":\"white\",\"ticks\":\"\"},\"radialaxis\":{\"gridcolor\":\"white\",\"linecolor\":\"white\",\"ticks\":\"\"}},\"ternary\":{\"bgcolor\":\"#E5ECF6\",\"aaxis\":{\"gridcolor\":\"white\",\"linecolor\":\"white\",\"ticks\":\"\"},\"baxis\":{\"gridcolor\":\"white\",\"linecolor\":\"white\",\"ticks\":\"\"},\"caxis\":{\"gridcolor\":\"white\",\"linecolor\":\"white\",\"ticks\":\"\"}},\"coloraxis\":{\"colorbar\":{\"outlinewidth\":0,\"ticks\":\"\"}},\"colorscale\":{\"sequential\":[[0.0,\"#0d0887\"],[0.1111111111111111,\"#46039f\"],[0.2222222222222222,\"#7201a8\"],[0.3333333333333333,\"#9c179e\"],[0.4444444444444444,\"#bd3786\"],[0.5555555555555556,\"#d8576b\"],[0.6666666666666666,\"#ed7953\"],[0.7777777777777778,\"#fb9f3a\"],[0.8888888888888888,\"#fdca26\"],[1.0,\"#f0f921\"]],\"sequentialminus\":[[0.0,\"#0d0887\"],[0.1111111111111111,\"#46039f\"],[0.2222222222222222,\"#7201a8\"],[0.3333333333333333,\"#9c179e\"],[0.4444444444444444,\"#bd3786\"],[0.5555555555555556,\"#d8576b\"],[0.6666666666666666,\"#ed7953\"],[0.7777777777777778,\"#fb9f3a\"],[0.8888888888888888,\"#fdca26\"],[1.0,\"#f0f921\"]],\"diverging\":[[0,\"#8e0152\"],[0.1,\"#c51b7d\"],[0.2,\"#de77ae\"],[0.3,\"#f1b6da\"],[0.4,\"#fde0ef\"],[0.5,\"#f7f7f7\"],[0.6,\"#e6f5d0\"],[0.7,\"#b8e186\"],[0.8,\"#7fbc41\"],[0.9,\"#4d9221\"],[1,\"#276419\"]]},\"xaxis\":{\"gridcolor\":\"white\",\"linecolor\":\"white\",\"ticks\":\"\",\"title\":{\"standoff\":15},\"zerolinecolor\":\"white\",\"automargin\":true,\"zerolinewidth\":2},\"yaxis\":{\"gridcolor\":\"white\",\"linecolor\":\"white\",\"ticks\":\"\",\"title\":{\"standoff\":15},\"zerolinecolor\":\"white\",\"automargin\":true,\"zerolinewidth\":2},\"scene\":{\"xaxis\":{\"backgroundcolor\":\"#E5ECF6\",\"gridcolor\":\"white\",\"linecolor\":\"white\",\"showbackground\":true,\"ticks\":\"\",\"zerolinecolor\":\"white\",\"gridwidth\":2},\"yaxis\":{\"backgroundcolor\":\"#E5ECF6\",\"gridcolor\":\"white\",\"linecolor\":\"white\",\"showbackground\":true,\"ticks\":\"\",\"zerolinecolor\":\"white\",\"gridwidth\":2},\"zaxis\":{\"backgroundcolor\":\"#E5ECF6\",\"gridcolor\":\"white\",\"linecolor\":\"white\",\"showbackground\":true,\"ticks\":\"\",\"zerolinecolor\":\"white\",\"gridwidth\":2}},\"shapedefaults\":{\"line\":{\"color\":\"#2a3f5f\"}},\"annotationdefaults\":{\"arrowcolor\":\"#2a3f5f\",\"arrowhead\":0,\"arrowwidth\":1},\"geo\":{\"bgcolor\":\"white\",\"landcolor\":\"#E5ECF6\",\"subunitcolor\":\"white\",\"showland\":true,\"showlakes\":true,\"lakecolor\":\"white\"},\"title\":{\"x\":0.05},\"mapbox\":{\"style\":\"light\"}}},\"xaxis\":{\"anchor\":\"y\",\"domain\":[0.0,1.0],\"title\":{\"text\":\"Этапы\"}},\"yaxis\":{\"anchor\":\"x\",\"domain\":[0.0,1.0],\"title\":{\"text\":\"Кол-во пользователей\"}},\"legend\":{\"tracegroupgap\":0},\"title\":{\"text\":\"Воронка конверсии\"}},                        {\"responsive\": true}                    ).then(function(){\n",
              "                            \n",
              "var gd = document.getElementById('8e70aa3d-37b8-49ed-8b6d-162ca64a2bef');\n",
              "var x = new MutationObserver(function (mutations, observer) {{\n",
              "        var display = window.getComputedStyle(gd).display;\n",
              "        if (!display || display === 'none') {{\n",
              "            console.log([gd, 'removed!']);\n",
              "            Plotly.purge(gd);\n",
              "            observer.disconnect();\n",
              "        }}\n",
              "}});\n",
              "\n",
              "// Listen for the removal of the full notebook cells\n",
              "var notebookContainer = gd.closest('#notebook-container');\n",
              "if (notebookContainer) {{\n",
              "    x.observe(notebookContainer, {childList: true});\n",
              "}}\n",
              "\n",
              "// Listen for the clearing of the current output cell\n",
              "var outputEl = gd.closest('.output');\n",
              "if (outputEl) {{\n",
              "    x.observe(outputEl, {childList: true});\n",
              "}}\n",
              "\n",
              "                        })                };                            </script>        </div>\n",
              "</body>\n",
              "</html>"
            ]
          },
          "metadata": {}
        }
      ]
    },
    {
      "cell_type": "code",
      "source": [
        "#Подсчёт пользователей по девайсам на каждом этапе\n",
        "counts = result.group_by('device').agg([\n",
        "    pl.col('Home page').count().alias('home_count'),\n",
        "    pl.col('Search page').count().alias('search_count'),\n",
        "    pl.col('Payment page').count().alias('pay_count'),\n",
        "    pl.col('Payment confirmation page').count().alias('pay_conv_count')\n",
        "])\n",
        "\n",
        "mobile_counts = counts.filter(pl.col('device') == 'Mobile').row(0, named=True)\n",
        "desktop_counts = counts.filter(pl.col('device') == 'Desktop').row(0, named=True)\n",
        "\n",
        "home_mobile = mobile_counts['home_count']\n",
        "home_desktop = desktop_counts['home_count']\n",
        "\n",
        "search_mobile = mobile_counts['search_count']\n",
        "search_desktop = desktop_counts['search_count']\n",
        "\n",
        "pay_mobile = mobile_counts['pay_count']\n",
        "pay_desktop = desktop_counts['pay_count']\n",
        "\n",
        "pay_conv_mobile = mobile_counts['pay_conv_count']\n",
        "pay_conv_desktop = desktop_counts['pay_conv_count']\n",
        "\n",
        "stages = ['Home', 'Search', 'Payment', 'Payment Confirmed']\n",
        "mobile_values = [home_mobile, search_mobile, pay_mobile, pay_conv_mobile]\n",
        "desktop_values = [home_desktop, search_desktop, pay_desktop, pay_conv_desktop]\n",
        "print(mobile_values)\n"
      ],
      "metadata": {
        "colab": {
          "base_uri": "https://localhost:8080/"
        },
        "id": "h2byXxXt4loy",
        "outputId": "20566fec-1a08-4f0f-9b0d-3fd50d1763d1"
      },
      "execution_count": null,
      "outputs": [
        {
          "output_type": "stream",
          "name": "stdout",
          "text": [
            "[30200, 15100, 3020, 302]\n"
          ]
        }
      ]
    },
    {
      "cell_type": "code",
      "source": [
        "import plotly.graph_objects as go\n",
        "\n",
        "fig = go.Figure()\n",
        "\n",
        "#мобильные пользователи (слева)\n",
        "fig.add_trace(go.Funnel(\n",
        "    y=stages,\n",
        "    x=mobile_values,\n",
        "    name='Mobile',\n",
        "    marker=dict(color='#FB5939'),\n",
        "    textinfo=\"value+percent initial\"\n",
        "))\n",
        "\n",
        "#десктопные пользователи (справа)\n",
        "fig.add_trace(go.Funnel(\n",
        "    y=stages,\n",
        "    x=desktop_values,\n",
        "    name='Desktop',\n",
        "    marker=dict(color='#66B2FF'),\n",
        "    textinfo=\"value+percent initial\"\n",
        "))\n",
        "\n",
        "#настройки графика\n",
        "fig.update_layout(\n",
        "    title='Воронка конверсии с разбивкой по устройствам',\n",
        "    xaxis_title='Количество пользователей',\n",
        "    yaxis_title='Этапы воронки',\n",
        "    legend_title='Тип устройства',\n",
        "    showlegend=True,\n",
        "    height=500\n",
        ")\n",
        "\n",
        "fig.show()"
      ],
      "metadata": {
        "colab": {
          "base_uri": "https://localhost:8080/",
          "height": 517
        },
        "id": "U-i1u8jd53AQ",
        "outputId": "a4a6becc-c25c-4d7d-d73f-4fad4ac2f0db"
      },
      "execution_count": null,
      "outputs": [
        {
          "output_type": "display_data",
          "data": {
            "text/html": [
              "<html>\n",
              "<head><meta charset=\"utf-8\" /></head>\n",
              "<body>\n",
              "    <div>            <script src=\"https://cdnjs.cloudflare.com/ajax/libs/mathjax/2.7.5/MathJax.js?config=TeX-AMS-MML_SVG\"></script><script type=\"text/javascript\">if (window.MathJax && window.MathJax.Hub && window.MathJax.Hub.Config) {window.MathJax.Hub.Config({SVG: {font: \"STIX-Web\"}});}</script>                <script type=\"text/javascript\">window.PlotlyConfig = {MathJaxConfig: 'local'};</script>\n",
              "        <script charset=\"utf-8\" src=\"https://cdn.plot.ly/plotly-2.35.2.min.js\"></script>                <div id=\"e229ae9d-71ab-4fe2-a2e5-cda077010819\" class=\"plotly-graph-div\" style=\"height:500px; width:100%;\"></div>            <script type=\"text/javascript\">                                    window.PLOTLYENV=window.PLOTLYENV || {};                                    if (document.getElementById(\"e229ae9d-71ab-4fe2-a2e5-cda077010819\")) {                    Plotly.newPlot(                        \"e229ae9d-71ab-4fe2-a2e5-cda077010819\",                        [{\"marker\":{\"color\":\"#FB5939\"},\"name\":\"Mobile\",\"textinfo\":\"value+percent initial\",\"x\":[30200,15100,3020,302],\"y\":[\"Home\",\"Search\",\"Payment\",\"Payment Confirmed\"],\"type\":\"funnel\"},{\"marker\":{\"color\":\"#66B2FF\"},\"name\":\"Desktop\",\"textinfo\":\"value+percent initial\",\"x\":[60200,30100,3010,150],\"y\":[\"Home\",\"Search\",\"Payment\",\"Payment Confirmed\"],\"type\":\"funnel\"}],                        {\"template\":{\"data\":{\"histogram2dcontour\":[{\"type\":\"histogram2dcontour\",\"colorbar\":{\"outlinewidth\":0,\"ticks\":\"\"},\"colorscale\":[[0.0,\"#0d0887\"],[0.1111111111111111,\"#46039f\"],[0.2222222222222222,\"#7201a8\"],[0.3333333333333333,\"#9c179e\"],[0.4444444444444444,\"#bd3786\"],[0.5555555555555556,\"#d8576b\"],[0.6666666666666666,\"#ed7953\"],[0.7777777777777778,\"#fb9f3a\"],[0.8888888888888888,\"#fdca26\"],[1.0,\"#f0f921\"]]}],\"choropleth\":[{\"type\":\"choropleth\",\"colorbar\":{\"outlinewidth\":0,\"ticks\":\"\"}}],\"histogram2d\":[{\"type\":\"histogram2d\",\"colorbar\":{\"outlinewidth\":0,\"ticks\":\"\"},\"colorscale\":[[0.0,\"#0d0887\"],[0.1111111111111111,\"#46039f\"],[0.2222222222222222,\"#7201a8\"],[0.3333333333333333,\"#9c179e\"],[0.4444444444444444,\"#bd3786\"],[0.5555555555555556,\"#d8576b\"],[0.6666666666666666,\"#ed7953\"],[0.7777777777777778,\"#fb9f3a\"],[0.8888888888888888,\"#fdca26\"],[1.0,\"#f0f921\"]]}],\"heatmap\":[{\"type\":\"heatmap\",\"colorbar\":{\"outlinewidth\":0,\"ticks\":\"\"},\"colorscale\":[[0.0,\"#0d0887\"],[0.1111111111111111,\"#46039f\"],[0.2222222222222222,\"#7201a8\"],[0.3333333333333333,\"#9c179e\"],[0.4444444444444444,\"#bd3786\"],[0.5555555555555556,\"#d8576b\"],[0.6666666666666666,\"#ed7953\"],[0.7777777777777778,\"#fb9f3a\"],[0.8888888888888888,\"#fdca26\"],[1.0,\"#f0f921\"]]}],\"heatmapgl\":[{\"type\":\"heatmapgl\",\"colorbar\":{\"outlinewidth\":0,\"ticks\":\"\"},\"colorscale\":[[0.0,\"#0d0887\"],[0.1111111111111111,\"#46039f\"],[0.2222222222222222,\"#7201a8\"],[0.3333333333333333,\"#9c179e\"],[0.4444444444444444,\"#bd3786\"],[0.5555555555555556,\"#d8576b\"],[0.6666666666666666,\"#ed7953\"],[0.7777777777777778,\"#fb9f3a\"],[0.8888888888888888,\"#fdca26\"],[1.0,\"#f0f921\"]]}],\"contourcarpet\":[{\"type\":\"contourcarpet\",\"colorbar\":{\"outlinewidth\":0,\"ticks\":\"\"}}],\"contour\":[{\"type\":\"contour\",\"colorbar\":{\"outlinewidth\":0,\"ticks\":\"\"},\"colorscale\":[[0.0,\"#0d0887\"],[0.1111111111111111,\"#46039f\"],[0.2222222222222222,\"#7201a8\"],[0.3333333333333333,\"#9c179e\"],[0.4444444444444444,\"#bd3786\"],[0.5555555555555556,\"#d8576b\"],[0.6666666666666666,\"#ed7953\"],[0.7777777777777778,\"#fb9f3a\"],[0.8888888888888888,\"#fdca26\"],[1.0,\"#f0f921\"]]}],\"surface\":[{\"type\":\"surface\",\"colorbar\":{\"outlinewidth\":0,\"ticks\":\"\"},\"colorscale\":[[0.0,\"#0d0887\"],[0.1111111111111111,\"#46039f\"],[0.2222222222222222,\"#7201a8\"],[0.3333333333333333,\"#9c179e\"],[0.4444444444444444,\"#bd3786\"],[0.5555555555555556,\"#d8576b\"],[0.6666666666666666,\"#ed7953\"],[0.7777777777777778,\"#fb9f3a\"],[0.8888888888888888,\"#fdca26\"],[1.0,\"#f0f921\"]]}],\"mesh3d\":[{\"type\":\"mesh3d\",\"colorbar\":{\"outlinewidth\":0,\"ticks\":\"\"}}],\"scatter\":[{\"fillpattern\":{\"fillmode\":\"overlay\",\"size\":10,\"solidity\":0.2},\"type\":\"scatter\"}],\"parcoords\":[{\"type\":\"parcoords\",\"line\":{\"colorbar\":{\"outlinewidth\":0,\"ticks\":\"\"}}}],\"scatterpolargl\":[{\"type\":\"scatterpolargl\",\"marker\":{\"colorbar\":{\"outlinewidth\":0,\"ticks\":\"\"}}}],\"bar\":[{\"error_x\":{\"color\":\"#2a3f5f\"},\"error_y\":{\"color\":\"#2a3f5f\"},\"marker\":{\"line\":{\"color\":\"#E5ECF6\",\"width\":0.5},\"pattern\":{\"fillmode\":\"overlay\",\"size\":10,\"solidity\":0.2}},\"type\":\"bar\"}],\"scattergeo\":[{\"type\":\"scattergeo\",\"marker\":{\"colorbar\":{\"outlinewidth\":0,\"ticks\":\"\"}}}],\"scatterpolar\":[{\"type\":\"scatterpolar\",\"marker\":{\"colorbar\":{\"outlinewidth\":0,\"ticks\":\"\"}}}],\"histogram\":[{\"marker\":{\"pattern\":{\"fillmode\":\"overlay\",\"size\":10,\"solidity\":0.2}},\"type\":\"histogram\"}],\"scattergl\":[{\"type\":\"scattergl\",\"marker\":{\"colorbar\":{\"outlinewidth\":0,\"ticks\":\"\"}}}],\"scatter3d\":[{\"type\":\"scatter3d\",\"line\":{\"colorbar\":{\"outlinewidth\":0,\"ticks\":\"\"}},\"marker\":{\"colorbar\":{\"outlinewidth\":0,\"ticks\":\"\"}}}],\"scattermapbox\":[{\"type\":\"scattermapbox\",\"marker\":{\"colorbar\":{\"outlinewidth\":0,\"ticks\":\"\"}}}],\"scatterternary\":[{\"type\":\"scatterternary\",\"marker\":{\"colorbar\":{\"outlinewidth\":0,\"ticks\":\"\"}}}],\"scattercarpet\":[{\"type\":\"scattercarpet\",\"marker\":{\"colorbar\":{\"outlinewidth\":0,\"ticks\":\"\"}}}],\"carpet\":[{\"aaxis\":{\"endlinecolor\":\"#2a3f5f\",\"gridcolor\":\"white\",\"linecolor\":\"white\",\"minorgridcolor\":\"white\",\"startlinecolor\":\"#2a3f5f\"},\"baxis\":{\"endlinecolor\":\"#2a3f5f\",\"gridcolor\":\"white\",\"linecolor\":\"white\",\"minorgridcolor\":\"white\",\"startlinecolor\":\"#2a3f5f\"},\"type\":\"carpet\"}],\"table\":[{\"cells\":{\"fill\":{\"color\":\"#EBF0F8\"},\"line\":{\"color\":\"white\"}},\"header\":{\"fill\":{\"color\":\"#C8D4E3\"},\"line\":{\"color\":\"white\"}},\"type\":\"table\"}],\"barpolar\":[{\"marker\":{\"line\":{\"color\":\"#E5ECF6\",\"width\":0.5},\"pattern\":{\"fillmode\":\"overlay\",\"size\":10,\"solidity\":0.2}},\"type\":\"barpolar\"}],\"pie\":[{\"automargin\":true,\"type\":\"pie\"}]},\"layout\":{\"autotypenumbers\":\"strict\",\"colorway\":[\"#636efa\",\"#EF553B\",\"#00cc96\",\"#ab63fa\",\"#FFA15A\",\"#19d3f3\",\"#FF6692\",\"#B6E880\",\"#FF97FF\",\"#FECB52\"],\"font\":{\"color\":\"#2a3f5f\"},\"hovermode\":\"closest\",\"hoverlabel\":{\"align\":\"left\"},\"paper_bgcolor\":\"white\",\"plot_bgcolor\":\"#E5ECF6\",\"polar\":{\"bgcolor\":\"#E5ECF6\",\"angularaxis\":{\"gridcolor\":\"white\",\"linecolor\":\"white\",\"ticks\":\"\"},\"radialaxis\":{\"gridcolor\":\"white\",\"linecolor\":\"white\",\"ticks\":\"\"}},\"ternary\":{\"bgcolor\":\"#E5ECF6\",\"aaxis\":{\"gridcolor\":\"white\",\"linecolor\":\"white\",\"ticks\":\"\"},\"baxis\":{\"gridcolor\":\"white\",\"linecolor\":\"white\",\"ticks\":\"\"},\"caxis\":{\"gridcolor\":\"white\",\"linecolor\":\"white\",\"ticks\":\"\"}},\"coloraxis\":{\"colorbar\":{\"outlinewidth\":0,\"ticks\":\"\"}},\"colorscale\":{\"sequential\":[[0.0,\"#0d0887\"],[0.1111111111111111,\"#46039f\"],[0.2222222222222222,\"#7201a8\"],[0.3333333333333333,\"#9c179e\"],[0.4444444444444444,\"#bd3786\"],[0.5555555555555556,\"#d8576b\"],[0.6666666666666666,\"#ed7953\"],[0.7777777777777778,\"#fb9f3a\"],[0.8888888888888888,\"#fdca26\"],[1.0,\"#f0f921\"]],\"sequentialminus\":[[0.0,\"#0d0887\"],[0.1111111111111111,\"#46039f\"],[0.2222222222222222,\"#7201a8\"],[0.3333333333333333,\"#9c179e\"],[0.4444444444444444,\"#bd3786\"],[0.5555555555555556,\"#d8576b\"],[0.6666666666666666,\"#ed7953\"],[0.7777777777777778,\"#fb9f3a\"],[0.8888888888888888,\"#fdca26\"],[1.0,\"#f0f921\"]],\"diverging\":[[0,\"#8e0152\"],[0.1,\"#c51b7d\"],[0.2,\"#de77ae\"],[0.3,\"#f1b6da\"],[0.4,\"#fde0ef\"],[0.5,\"#f7f7f7\"],[0.6,\"#e6f5d0\"],[0.7,\"#b8e186\"],[0.8,\"#7fbc41\"],[0.9,\"#4d9221\"],[1,\"#276419\"]]},\"xaxis\":{\"gridcolor\":\"white\",\"linecolor\":\"white\",\"ticks\":\"\",\"title\":{\"standoff\":15},\"zerolinecolor\":\"white\",\"automargin\":true,\"zerolinewidth\":2},\"yaxis\":{\"gridcolor\":\"white\",\"linecolor\":\"white\",\"ticks\":\"\",\"title\":{\"standoff\":15},\"zerolinecolor\":\"white\",\"automargin\":true,\"zerolinewidth\":2},\"scene\":{\"xaxis\":{\"backgroundcolor\":\"#E5ECF6\",\"gridcolor\":\"white\",\"linecolor\":\"white\",\"showbackground\":true,\"ticks\":\"\",\"zerolinecolor\":\"white\",\"gridwidth\":2},\"yaxis\":{\"backgroundcolor\":\"#E5ECF6\",\"gridcolor\":\"white\",\"linecolor\":\"white\",\"showbackground\":true,\"ticks\":\"\",\"zerolinecolor\":\"white\",\"gridwidth\":2},\"zaxis\":{\"backgroundcolor\":\"#E5ECF6\",\"gridcolor\":\"white\",\"linecolor\":\"white\",\"showbackground\":true,\"ticks\":\"\",\"zerolinecolor\":\"white\",\"gridwidth\":2}},\"shapedefaults\":{\"line\":{\"color\":\"#2a3f5f\"}},\"annotationdefaults\":{\"arrowcolor\":\"#2a3f5f\",\"arrowhead\":0,\"arrowwidth\":1},\"geo\":{\"bgcolor\":\"white\",\"landcolor\":\"#E5ECF6\",\"subunitcolor\":\"white\",\"showland\":true,\"showlakes\":true,\"lakecolor\":\"white\"},\"title\":{\"x\":0.05},\"mapbox\":{\"style\":\"light\"}}},\"title\":{\"text\":\"Воронка конверсии с разбивкой по устройствам\"},\"xaxis\":{\"title\":{\"text\":\"Количество пользователей\"}},\"yaxis\":{\"title\":{\"text\":\"Этапы воронки\"}},\"legend\":{\"title\":{\"text\":\"Тип устройства\"}},\"showlegend\":true,\"height\":500},                        {\"responsive\": true}                    ).then(function(){\n",
              "                            \n",
              "var gd = document.getElementById('e229ae9d-71ab-4fe2-a2e5-cda077010819');\n",
              "var x = new MutationObserver(function (mutations, observer) {{\n",
              "        var display = window.getComputedStyle(gd).display;\n",
              "        if (!display || display === 'none') {{\n",
              "            console.log([gd, 'removed!']);\n",
              "            Plotly.purge(gd);\n",
              "            observer.disconnect();\n",
              "        }}\n",
              "}});\n",
              "\n",
              "// Listen for the removal of the full notebook cells\n",
              "var notebookContainer = gd.closest('#notebook-container');\n",
              "if (notebookContainer) {{\n",
              "    x.observe(notebookContainer, {childList: true});\n",
              "}}\n",
              "\n",
              "// Listen for the clearing of the current output cell\n",
              "var outputEl = gd.closest('.output');\n",
              "if (outputEl) {{\n",
              "    x.observe(outputEl, {childList: true});\n",
              "}}\n",
              "\n",
              "                        })                };                            </script>        </div>\n",
              "</body>\n",
              "</html>"
            ]
          },
          "metadata": {}
        }
      ]
    }
  ]
}